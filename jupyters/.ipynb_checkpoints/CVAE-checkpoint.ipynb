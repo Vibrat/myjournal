{
 "cells": [
  {
   "cell_type": "markdown",
   "id": "512cb7aa-b320-4f1b-a223-f75e449b100c",
   "metadata": {},
   "source": [
    "# Convolutional Variational Autoencoders\n",
    "\n",
    "Reference: https://www.tensorflow.org/tutorials/generative/cvae"
   ]
  },
  {
   "cell_type": "markdown",
   "id": "37951979-7d19-4ab5-9c52-6cf392286aec",
   "metadata": {
    "tags": []
   },
   "source": [
    "## to generate gifs\n",
    "\n",
    "```\n",
    "python3 -m pip install tensorflow-probability\n",
    "python3 -m pip install imageio\n",
    "python3 -m pip install git+https://github.com/tensorflow/docs\n",
    "```"
   ]
  },
  {
   "cell_type": "code",
   "execution_count": null,
   "id": "1a421c72-d403-4031-9412-6d96d6432b55",
   "metadata": {
    "tags": []
   },
   "outputs": [],
   "source": [
    "from IPython import display\n",
    "\n",
    "import glob\n",
    "import imageio\n",
    "import matplotlib.pyplot as plt\n",
    "import numpy as np\n",
    "import PIL\n",
    "import tensorflow as tf\n",
    "import tensorflow_probability as tfp\n",
    "import time"
   ]
  },
  {
   "cell_type": "code",
   "execution_count": null,
   "id": "0ddac771-b5c3-4d64-a2cd-173ad82549d1",
   "metadata": {},
   "outputs": [],
   "source": []
  }
 ],
 "metadata": {
  "kernelspec": {
   "display_name": "Python 3 (ipykernel)",
   "language": "python",
   "name": "python3"
  },
  "language_info": {
   "codemirror_mode": {
    "name": "ipython",
    "version": 3
   },
   "file_extension": ".py",
   "mimetype": "text/x-python",
   "name": "python",
   "nbconvert_exporter": "python",
   "pygments_lexer": "ipython3",
   "version": "3.9.6"
  }
 },
 "nbformat": 4,
 "nbformat_minor": 5
}
